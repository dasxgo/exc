{
 "cells": [
  {
   "cell_type": "code",
<<<<<<< HEAD
   "execution_count": 15,
=======
   "execution_count": 21,
>>>>>>> 486b3840dfcb4775363596bee8750859e638772f
   "id": "0a71db82-73a1-454d-932e-42fb0cdc72e7",
   "metadata": {},
   "outputs": [],
   "source": [
    "class Carrito:\n",
    "    def __init__(self):\n",
    "        self.articulos = []\n",
    "    \n",
    "    def agregar_articulos(self, articulo, precio):\n",
    "        self.articulos.append({'articulo': articulo, \n",
    "                           'precio': precio})\n",
    "    def remover_articulo(self, articulo):\n",
    "        for item in self.articulos:\n",
    "            if item['articulo'] == articulo:\n",
    "                self.articulos.remove(item)\n",
    "                break\n",
    "    def calcular_total(self):\n",
    "        total = 0 \n",
    "        for item in self.articulos:\n",
    "            total += item['precio']\n",
    "            return total\n"
   ]
  },
  {
   "cell_type": "code",
<<<<<<< HEAD
   "execution_count": 18,
=======
   "execution_count": 22,
>>>>>>> 486b3840dfcb4775363596bee8750859e638772f
   "id": "8bbd52a6-5f82-4d1f-b1ee-ab7b4e2bc8b0",
   "metadata": {},
   "outputs": [
    {
     "name": "stdout",
     "output_type": "stream",
     "text": [
      "[]\n"
     ]
    }
   ],
   "source": [
    "# Primero creamos una instancia de carrito \n",
    "\n",
    "mi_carrito = Carrito()\n",
    "print(mi_carrito.articulos)"
   ]
  },
  {
   "cell_type": "code",
<<<<<<< HEAD
   "execution_count": 20,
=======
   "execution_count": 23,
>>>>>>> 486b3840dfcb4775363596bee8750859e638772f
   "id": "a3256e59-8247-4d48-869e-a37e4bb0466e",
   "metadata": {},
   "outputs": [
    {
     "name": "stdout",
     "output_type": "stream",
     "text": [
<<<<<<< HEAD
      "[{'articulo': 'Manzanas', 'precio': 5.0}, {'articulo': 'Naranjas', 'precio': 3.0}, {'articulo': 'Manzanas', 'precio': 4.0}, {'articulo': 'Manzanas', 'precio': 5.0}, {'articulo': 'Naranjas', 'precio': 3.0}, {'articulo': 'Manzanas', 'precio': 4.0}]\n"
=======
      "[{'articulo': 'Manzanas', 'precio': 5.0}, {'articulo': 'Naranjas', 'precio': 3.0}, {'articulo': 'Manzanas', 'precio': 4.0}]\n"
>>>>>>> 486b3840dfcb4775363596bee8750859e638772f
     ]
    }
   ],
   "source": [
    "# Vamos agregar algunos articulos\n",
    "mi_carrito.agregar_articulos('Manzanas', 5.00)\n",
    "mi_carrito.agregar_articulos('Naranjas', 3.00)\n",
    "mi_carrito.agregar_articulos('Manzanas', 4.00)\n",
    "print(mi_carrito.articulos)"
   ]
  },
  {
   "cell_type": "code",
<<<<<<< HEAD
   "execution_count": 9,
=======
   "execution_count": 24,
>>>>>>> 486b3840dfcb4775363596bee8750859e638772f
   "id": "f36299d1-b1f7-48f3-a6f7-1c5b2dd18832",
   "metadata": {},
   "outputs": [
    {
     "name": "stdout",
     "output_type": "stream",
     "text": [
      "[{'articulo': 'Manzanas', 'precio': 5.0}, {'articulo': 'Manzanas', 'precio': 4.0}]\n"
     ]
    }
   ],
   "source": [
    "# Ahora si queremos remover un articulo\n",
    "mi_carrito.remover_articulo('Naranjas')\n",
    "print(mi_carrito.articulos)"
   ]
  },
  {
   "cell_type": "code",
<<<<<<< HEAD
   "execution_count": 10,
=======
   "execution_count": 25,
>>>>>>> 486b3840dfcb4775363596bee8750859e638772f
   "id": "9efb368e-2762-4224-aa17-830b552fe3db",
   "metadata": {},
   "outputs": [
    {
     "name": "stdout",
     "output_type": "stream",
     "text": [
      "El total del carrito es =>: 5.0\n"
     ]
    }
   ],
   "source": [
    "# Calcular el total\n",
    "total = mi_carrito.calcular_total()\n",
    "print(f'El total del carrito es =>:', total)"
   ]
  }
 ],
 "metadata": {
  "kernelspec": {
   "display_name": "Python 3 (ipykernel)",
   "language": "python",
   "name": "python3"
  },
  "language_info": {
   "codemirror_mode": {
    "name": "ipython",
    "version": 3
   },
   "file_extension": ".py",
   "mimetype": "text/x-python",
   "name": "python",
   "nbconvert_exporter": "python",
   "pygments_lexer": "ipython3",
   "version": "3.11.4"
  }
 },
 "nbformat": 4,
 "nbformat_minor": 5
}
